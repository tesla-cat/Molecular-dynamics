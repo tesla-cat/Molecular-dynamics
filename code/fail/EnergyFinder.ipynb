{
 "cells": [
  {
   "cell_type": "code",
   "execution_count": 1,
   "metadata": {},
   "outputs": [],
   "source": [
    "import numpy as np\n",
    "import matplotlib.pyplot as plt\n",
    "import scipy\n",
    "import mdtraj\n",
    "from simtk.openmm.app import *\n",
    "from simtk.openmm import *\n",
    "from simtk.unit import *"
   ]
  },
  {
   "cell_type": "code",
   "execution_count": 2,
   "metadata": {},
   "outputs": [],
   "source": [
    "topoFile = r'D:\\MD\\ASAP-sim\\ASAP3b\\A-GFP\\system_dabbled.psf'\n",
    "trajFile = r'D:\\MD\\ASAP-sim\\ASAP3b\\A-GFP\\run_1.nc'\n",
    "traj = mdtraj.load(trajFile, top=topoFile)\n",
    "topo = traj.topology"
   ]
  },
  {
   "cell_type": "markdown",
   "metadata": {},
   "source": [
    "- residues of interest\n",
    "    - F413 PHE, 365 in PyMol\n",
    "    - Q414 GLN, 366 in PyMol"
   ]
  },
  {
   "cell_type": "code",
   "execution_count": 3,
   "metadata": {},
   "outputs": [
    {
     "name": "stdout",
     "output_type": "stream",
     "text": [
      "\n",
      " PHE365\n",
      "[92386 92387 92388 92389 92390 92391 92392 92393 92394 92395 92396 92397\n",
      " 92398 92399 92400 92401 92402 92403 92404 92405]\n",
      "\n",
      " GLN366\n",
      "[92406 92407 92408 92409 92410 92411 92412 92413 92414 92415 92416 92417\n",
      " 92418 92419 92420 92421 92422]\n"
     ]
    }
   ],
   "source": [
    "def getResAtoms(topo, seq):\n",
    "    atoms = topo.select(\"protein and resSeq %d\" % seq)\n",
    "    res = topo.atom(atoms[0]).residue\n",
    "    print('\\n', res)\n",
    "    return atoms\n",
    "\n",
    "print(getResAtoms(topo, 365))\n",
    "print(getResAtoms(topo, 366))"
   ]
  },
  {
   "cell_type": "code",
   "execution_count": 4,
   "metadata": {},
   "outputs": [
    {
     "name": "stdout",
     "output_type": "stream",
     "text": [
      "<Topology; 5 chains, 20533 residues, 92627 atoms, 92376 bonds>\n"
     ]
    },
    {
     "ename": "ValueError",
     "evalue": "No template found for residue 108 (HOH).  The set of atoms matches TIP3, but the bonds are different.  Perhaps the chain is missing a terminal group?",
     "output_type": "error",
     "traceback": [
      "\u001b[1;31m---------------------------------------------------------------------------\u001b[0m",
      "\u001b[1;31mValueError\u001b[0m                                Traceback (most recent call last)",
      "\u001b[1;32m<ipython-input-4-47c19aab122b>\u001b[0m in \u001b[0;36m<module>\u001b[1;34m\u001b[0m\n\u001b[0;32m     17\u001b[0m         \u001b[0mforce\u001b[0m \u001b[1;33m=\u001b[0m \u001b[0mstate\u001b[0m\u001b[1;33m.\u001b[0m\u001b[0mgetForces\u001b[0m\u001b[1;33m(\u001b[0m\u001b[0masNumpy\u001b[0m\u001b[1;33m=\u001b[0m\u001b[1;32mTrue\u001b[0m\u001b[1;33m)\u001b[0m\u001b[1;33m\u001b[0m\u001b[1;33m\u001b[0m\u001b[0m\n\u001b[0;32m     18\u001b[0m \u001b[1;33m\u001b[0m\u001b[0m\n\u001b[1;32m---> 19\u001b[1;33m \u001b[0menergyFinder\u001b[0m \u001b[1;33m=\u001b[0m \u001b[0mEnergyFinder\u001b[0m\u001b[1;33m(\u001b[0m\u001b[0mtraj\u001b[0m\u001b[1;33m)\u001b[0m\u001b[1;33m\u001b[0m\u001b[1;33m\u001b[0m\u001b[0m\n\u001b[0m\u001b[0;32m     20\u001b[0m \u001b[0menergyFinder\u001b[0m\u001b[1;33m.\u001b[0m\u001b[0mgetStep\u001b[0m\u001b[1;33m(\u001b[0m\u001b[1;36m1\u001b[0m\u001b[1;33m)\u001b[0m\u001b[1;33m\u001b[0m\u001b[1;33m\u001b[0m\u001b[0m\n",
      "\u001b[1;32m<ipython-input-4-47c19aab122b>\u001b[0m in \u001b[0;36m__init__\u001b[1;34m(self, traj)\u001b[0m\n\u001b[0;32m      4\u001b[0m         \u001b[0mtopology\u001b[0m \u001b[1;33m=\u001b[0m \u001b[0mtraj\u001b[0m\u001b[1;33m.\u001b[0m\u001b[0mtopology\u001b[0m\u001b[1;33m.\u001b[0m\u001b[0mto_openmm\u001b[0m\u001b[1;33m(\u001b[0m\u001b[1;33m)\u001b[0m\u001b[1;33m\u001b[0m\u001b[1;33m\u001b[0m\u001b[0m\n\u001b[0;32m      5\u001b[0m         \u001b[0mprint\u001b[0m\u001b[1;33m(\u001b[0m\u001b[0mtopology\u001b[0m\u001b[1;33m)\u001b[0m\u001b[1;33m\u001b[0m\u001b[1;33m\u001b[0m\u001b[0m\n\u001b[1;32m----> 6\u001b[1;33m         \u001b[0msystem\u001b[0m \u001b[1;33m=\u001b[0m \u001b[0mforceField\u001b[0m\u001b[1;33m.\u001b[0m\u001b[0mcreateSystem\u001b[0m\u001b[1;33m(\u001b[0m\u001b[0mtopology\u001b[0m\u001b[1;33m)\u001b[0m\u001b[1;33m\u001b[0m\u001b[1;33m\u001b[0m\u001b[0m\n\u001b[0m\u001b[0;32m      7\u001b[0m         \u001b[0mintegrator\u001b[0m \u001b[1;33m=\u001b[0m \u001b[0mLangevinMiddleIntegrator\u001b[0m\u001b[1;33m(\u001b[0m\u001b[1;36m300\u001b[0m\u001b[1;33m*\u001b[0m\u001b[0mkelvin\u001b[0m\u001b[1;33m,\u001b[0m \u001b[1;36m1\u001b[0m\u001b[1;33m/\u001b[0m\u001b[0mpicosecond\u001b[0m\u001b[1;33m,\u001b[0m \u001b[1;36m0.004\u001b[0m\u001b[1;33m*\u001b[0m\u001b[0mpicoseconds\u001b[0m\u001b[1;33m)\u001b[0m\u001b[1;33m\u001b[0m\u001b[1;33m\u001b[0m\u001b[0m\n\u001b[0;32m      8\u001b[0m         \u001b[0msimulation\u001b[0m \u001b[1;33m=\u001b[0m \u001b[0mSimulation\u001b[0m\u001b[1;33m(\u001b[0m\u001b[0mtopology\u001b[0m\u001b[1;33m,\u001b[0m \u001b[0msystem\u001b[0m\u001b[1;33m,\u001b[0m \u001b[0mintegrator\u001b[0m\u001b[1;33m)\u001b[0m\u001b[1;33m\u001b[0m\u001b[1;33m\u001b[0m\u001b[0m\n",
      "\u001b[1;32mD:\\Miniconda3\\lib\\site-packages\\simtk\\openmm\\app\\forcefield.py\u001b[0m in \u001b[0;36mcreateSystem\u001b[1;34m(self, topology, nonbondedMethod, nonbondedCutoff, constraints, rigidWater, removeCMMotion, hydrogenMass, residueTemplates, ignoreExternalBonds, switchDistance, flexibleConstraints, drudeMass, **args)\u001b[0m\n\u001b[0;32m   1175\u001b[0m         \u001b[1;31m# Find the template matching each residue and assign atom types.\u001b[0m\u001b[1;33m\u001b[0m\u001b[1;33m\u001b[0m\u001b[1;33m\u001b[0m\u001b[0m\n\u001b[0;32m   1176\u001b[0m \u001b[1;33m\u001b[0m\u001b[0m\n\u001b[1;32m-> 1177\u001b[1;33m         \u001b[0mtemplateForResidue\u001b[0m \u001b[1;33m=\u001b[0m \u001b[0mself\u001b[0m\u001b[1;33m.\u001b[0m\u001b[0m_matchAllResiduesToTemplates\u001b[0m\u001b[1;33m(\u001b[0m\u001b[0mdata\u001b[0m\u001b[1;33m,\u001b[0m \u001b[0mtopology\u001b[0m\u001b[1;33m,\u001b[0m \u001b[0mresidueTemplates\u001b[0m\u001b[1;33m,\u001b[0m \u001b[0mignoreExternalBonds\u001b[0m\u001b[1;33m)\u001b[0m\u001b[1;33m\u001b[0m\u001b[1;33m\u001b[0m\u001b[0m\n\u001b[0m\u001b[0;32m   1178\u001b[0m         \u001b[1;32mfor\u001b[0m \u001b[0mres\u001b[0m \u001b[1;32min\u001b[0m \u001b[0mtopology\u001b[0m\u001b[1;33m.\u001b[0m\u001b[0mresidues\u001b[0m\u001b[1;33m(\u001b[0m\u001b[1;33m)\u001b[0m\u001b[1;33m:\u001b[0m\u001b[1;33m\u001b[0m\u001b[1;33m\u001b[0m\u001b[0m\n\u001b[0;32m   1179\u001b[0m             \u001b[1;32mif\u001b[0m \u001b[0mres\u001b[0m\u001b[1;33m.\u001b[0m\u001b[0mname\u001b[0m \u001b[1;33m==\u001b[0m \u001b[1;34m'HOH'\u001b[0m\u001b[1;33m:\u001b[0m\u001b[1;33m\u001b[0m\u001b[1;33m\u001b[0m\u001b[0m\n",
      "\u001b[1;32mD:\\Miniconda3\\lib\\site-packages\\simtk\\openmm\\app\\forcefield.py\u001b[0m in \u001b[0;36m_matchAllResiduesToTemplates\u001b[1;34m(self, data, topology, residueTemplates, ignoreExternalBonds, ignoreExtraParticles, recordParameters)\u001b[0m\n\u001b[0;32m   1389\u001b[0m                             \u001b[1;32mbreak\u001b[0m\u001b[1;33m\u001b[0m\u001b[1;33m\u001b[0m\u001b[0m\n\u001b[0;32m   1390\u001b[0m             \u001b[1;32mif\u001b[0m \u001b[0mmatches\u001b[0m \u001b[1;32mis\u001b[0m \u001b[1;32mNone\u001b[0m\u001b[1;33m:\u001b[0m\u001b[1;33m\u001b[0m\u001b[1;33m\u001b[0m\u001b[0m\n\u001b[1;32m-> 1391\u001b[1;33m                 \u001b[1;32mraise\u001b[0m \u001b[0mValueError\u001b[0m\u001b[1;33m(\u001b[0m\u001b[1;34m'No template found for residue %d (%s).  %s'\u001b[0m \u001b[1;33m%\u001b[0m \u001b[1;33m(\u001b[0m\u001b[0mres\u001b[0m\u001b[1;33m.\u001b[0m\u001b[0mindex\u001b[0m\u001b[1;33m+\u001b[0m\u001b[1;36m1\u001b[0m\u001b[1;33m,\u001b[0m \u001b[0mres\u001b[0m\u001b[1;33m.\u001b[0m\u001b[0mname\u001b[0m\u001b[1;33m,\u001b[0m \u001b[0m_findMatchErrors\u001b[0m\u001b[1;33m(\u001b[0m\u001b[0mself\u001b[0m\u001b[1;33m,\u001b[0m \u001b[0mres\u001b[0m\u001b[1;33m)\u001b[0m\u001b[1;33m)\u001b[0m\u001b[1;33m)\u001b[0m\u001b[1;33m\u001b[0m\u001b[1;33m\u001b[0m\u001b[0m\n\u001b[0m\u001b[0;32m   1392\u001b[0m             \u001b[1;32melse\u001b[0m\u001b[1;33m:\u001b[0m\u001b[1;33m\u001b[0m\u001b[1;33m\u001b[0m\u001b[0m\n\u001b[0;32m   1393\u001b[0m                 \u001b[1;32mif\u001b[0m \u001b[0mrecordParameters\u001b[0m\u001b[1;33m:\u001b[0m\u001b[1;33m\u001b[0m\u001b[1;33m\u001b[0m\u001b[0m\n",
      "\u001b[1;31mValueError\u001b[0m: No template found for residue 108 (HOH).  The set of atoms matches TIP3, but the bonds are different.  Perhaps the chain is missing a terminal group?"
     ]
    }
   ],
   "source": [
    "class EnergyFinder:\n",
    "    def __init__(self, traj):\n",
    "        forceField = ForceField('charmm36.xml', 'charmm36/water.xml')\n",
    "        topology = traj.topology.to_openmm()\n",
    "        print(topology)\n",
    "        system = forceField.createSystem(topology)\n",
    "        integrator = LangevinMiddleIntegrator(300*kelvin, 1/picosecond, 0.004*picoseconds)\n",
    "        simulation = Simulation(topology, system, integrator)\n",
    "        self.sim = simulation\n",
    "        self.traj = traj\n",
    "        \n",
    "    def getStep(self, step):\n",
    "        self.sim.context.setPositions(self.traj.xyz[step])\n",
    "        state = self.sim.context.getState(getEnergy=True, getForces=True)\n",
    "        potentialEnergy = state.getPotentialEnergy()\n",
    "        kineticEnergy = state.getKineticEnergy()\n",
    "        force = state.getForces(asNumpy=True)\n",
    "        \n",
    "energyFinder = EnergyFinder(traj)\n",
    "energyFinder.getStep(1)"
   ]
  }
 ],
 "metadata": {
  "kernelspec": {
   "display_name": "Python 3",
   "language": "python",
   "name": "python3"
  },
  "language_info": {
   "codemirror_mode": {
    "name": "ipython",
    "version": 3
   },
   "file_extension": ".py",
   "mimetype": "text/x-python",
   "name": "python",
   "nbconvert_exporter": "python",
   "pygments_lexer": "ipython3",
   "version": "3.8.5"
  }
 },
 "nbformat": 4,
 "nbformat_minor": 4
}
